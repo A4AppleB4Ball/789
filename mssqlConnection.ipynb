{
 "cells": [
  {
   "cell_type": "code",
   "execution_count": 65,
   "metadata": {},
   "outputs": [
    {
     "name": "stdout",
     "output_type": "stream",
     "text": [
      "<pyodbc.Connection object at 0x7f6f9354a650>\n"
     ]
    },
    {
     "data": {
      "text/plain": [
       "'\\n\\n1. Lots of None and false dates\\n2. diffrent languages \\n3. Need to know the form of data required in next phase\\n4. Node , How to compare, What parameters are required for connections \\n\\n\\n'"
      ]
     },
     "execution_count": 65,
     "metadata": {},
     "output_type": "execute_result"
    }
   ],
   "source": [
    "import pyodbc; \n",
    "\n",
    "con = pyodbc.connect('DSN=MySQLServerDatabase;UID=sa;PWD=123456;DATABASE=CCISUnicode_MH')\n",
    "cursor = con.cursor()\n",
    "\n",
    "\n",
    "print(con)\n",
    "\n",
    "'''\n",
    "\n",
    "1. Lots of None and false dates\n",
    "2. entry of diffrent languages \n",
    "3. Need to know the form of data required in next phase\n",
    "4. Node , How to compare, What parameters are required for connections \n",
    "\n",
    "\n",
    "'''"
   ]
  },
  {
   "cell_type": "code",
   "execution_count": 2,
   "metadata": {},
   "outputs": [
    {
     "name": "stdout",
     "output_type": "stream",
     "text": [
      "(Decimal('13861320043006'), '19386          ', '1938613        ', 1, '3006 ', datetime.datetime(2004, 1, 26, 0, 0), datetime.datetime(2004, 1, 26, 0, 0), datetime.datetime(2004, 1, 26, 0, 0), datetime.datetime(2004, 1, 26, 15, 0), datetime.datetime(2004, 1, 26, 15, 0), 3757, 3744, '38613D5      ', 761, None, None, 0, Decimal('0.0000'), '                    ', None, None, '240  ', '240-2          ', 3806, ' ', None, None, None, None, None, None, None, None, None, datetime.datetime(2004, 3, 3, 19, 51, 39, 670000), 'SHEWALE             ', 'N', datetime.datetime(2004, 3, 22, 13, 24, 53, 763000), 'N', 'N', None, 2)\n"
     ]
    }
   ],
   "source": [
    "qry = 'SELECT * FROM dbo.FIR'\n",
    "\n",
    "cursor.execute(qry)\n",
    "\n",
    "row = cursor.fetchone() #Fetch first row\n",
    "\n",
    "print(row)\n"
   ]
  },
  {
   "cell_type": "code",
   "execution_count": 79,
   "metadata": {},
   "outputs": [
    {
     "name": "stdout",
     "output_type": "stream",
     "text": [
      "[['CCISUnicode_MH' 'dbo' 'Section_NEW' 'BASE TABLE']\n",
      " ['CCISUnicode_MH' 'dbo' 'AppMenuActivity' 'BASE TABLE']\n",
      " ['CCISUnicode_MH' 'dbo' 'SourceBifurDataLog' 'BASE TABLE']\n",
      " ['CCISUnicode_MH' 'dbo' 'AppMenuLang' 'BASE TABLE']\n",
      " ['CCISUnicode_MH' 'dbo' 'Specification' 'BASE TABLE']\n",
      " ['CCISUnicode_MH' 'dbo' 'AppModule' 'BASE TABLE']\n",
      " ['CCISUnicode_MH' 'dbo' 'SpecificationKey' 'BASE TABLE']\n",
      " ['CCISUnicode_MH' 'dbo' 'AppRole' 'BASE TABLE']\n",
      " ['CCISUnicode_MH' 'dbo' 'SpecificationType' 'BASE TABLE']\n",
      " ['CCISUnicode_MH' 'dbo' 'AppUser' 'BASE TABLE']\n",
      " ['CCISUnicode_MH' 'dbo' 'Specification_new' 'BASE TABLE']\n",
      " ['CCISUnicode_MH' 'dbo' 'AppUserRole' 'BASE TABLE']\n",
      " ['CCISUnicode_MH' 'dbo' 'StolenPropertyRegister' 'BASE TABLE']\n",
      " ['CCISUnicode_MH' 'dbo' 'ArchivalConfig' 'BASE TABLE']\n",
      " ['CCISUnicode_MH' 'dbo' 'StolenPropertyRegisterDetail' 'BASE TABLE']\n",
      " ['CCISUnicode_MH' 'dbo' 'ArchivalFir' 'BASE TABLE']\n",
      " ['CCISUnicode_MH' 'dbo' 'StoreRoomProperties' 'BASE TABLE']\n",
      " ['CCISUnicode_MH' 'dbo' 'ArrestSurrenderPersonDetail' 'BASE TABLE']\n",
      " ['CCISUnicode_MH' 'dbo' 'StoreRoomRegister' 'BASE TABLE']\n",
      " ['CCISUnicode_MH' 'dbo' 'ArrestSurrenderPersonPrevDetails' 'BASE TABLE']\n",
      " ['CCISUnicode_MH' 'dbo' 'TCCISConfig' 'BASE TABLE']\n",
      " ['CCISUnicode_MH' 'dbo' 'ArrestSurrenderPropertyDetail' 'BASE TABLE']\n",
      " ['CCISUnicode_MH' 'dbo' 'TalashformDetail' 'BASE TABLE']\n",
      " ['CCISUnicode_MH' 'dbo' 'BailerDetail' 'BASE TABLE']\n",
      " ['CCISUnicode_MH' 'dbo' 'TerroristAddnlDetail' 'BASE TABLE']\n",
      " ['CCISUnicode_MH' 'dbo' 'BifurData' 'BASE TABLE']\n",
      " ['CCISUnicode_MH' 'dbo' 'TerroristAffiliation' 'BASE TABLE']\n",
      " ['CCISUnicode_MH' 'dbo' 'CCISConfig' 'BASE TABLE']\n",
      " ['CCISUnicode_MH' 'dbo' 'TerroristAreasOperation' 'BASE TABLE']\n",
      " ['CCISUnicode_MH' 'dbo' 'CodeListControl' 'BASE TABLE']\n",
      " ['CCISUnicode_MH' 'dbo' 'TerroristBankDetails' 'BASE TABLE']\n",
      " ['CCISUnicode_MH' 'dbo' 'CodeType' 'BASE TABLE']\n",
      " ['CCISUnicode_MH' 'dbo' 'TerroristCrimeHistory' 'BASE TABLE']\n",
      " ['CCISUnicode_MH' 'dbo' 'CodeType_SpecType' 'BASE TABLE']\n",
      " ['CCISUnicode_MH' 'dbo' 'TerroristDetail' 'BASE TABLE']\n",
      " ['CCISUnicode_MH' 'dbo' 'Codes' 'BASE TABLE']\n",
      " ['CCISUnicode_MH' 'dbo' 'TerroristEmployment' 'BASE TABLE']\n",
      " ['CCISUnicode_MH' 'dbo' 'Codes_new' 'BASE TABLE']\n",
      " ['CCISUnicode_MH' 'dbo' 'TerroristExpExplosiveDetails' 'BASE TABLE']\n",
      " ['CCISUnicode_MH' 'dbo' 'ConvictionRegister' 'BASE TABLE']\n",
      " ['CCISUnicode_MH' 'dbo' 'TerroristExpWeaponDetails' 'BASE TABLE']\n",
      " ['CCISUnicode_MH' 'dbo' 'ConvictionRegisterDetail' 'BASE TABLE']\n",
      " ['CCISUnicode_MH' 'dbo' 'TerroristFamilyDetails' 'BASE TABLE']\n",
      " ['CCISUnicode_MH' 'dbo' 'CoordinatedNOCDetail' 'BASE TABLE']\n",
      " ['CCISUnicode_MH' 'dbo' 'TerroristHideOuts' 'BASE TABLE']\n",
      " ['CCISUnicode_MH' 'dbo' 'CrimeEnqTemp' 'BASE TABLE']\n",
      " ['CCISUnicode_MH' 'dbo' 'TerroristHideOutsOld' 'BASE TABLE']\n",
      " ['CCISUnicode_MH' 'dbo' 'CrimeHeadTitle' 'BASE TABLE']\n",
      " ['CCISUnicode_MH' 'dbo' 'TerroristInterpolDetails' 'BASE TABLE']\n",
      " ['CCISUnicode_MH' 'dbo' 'CrimeMethod' 'BASE TABLE']\n",
      " ['CCISUnicode_MH' 'dbo' 'TerroristOtherInfo' 'BASE TABLE']\n",
      " ['CCISUnicode_MH' 'dbo' 'CrimePropertyTypes' 'BASE TABLE']\n",
      " ['CCISUnicode_MH' 'dbo' 'TerroristPassPortDetails' 'BASE TABLE']\n",
      " ['CCISUnicode_MH' 'dbo' 'CrimeRegister' 'BASE TABLE']\n",
      " ['CCISUnicode_MH' 'dbo' 'TerroristPersonalDetails' 'BASE TABLE']\n",
      " ['CCISUnicode_MH' 'dbo' 'CrimeRegisterHelpers' 'BASE TABLE']\n",
      " ['CCISUnicode_MH' 'dbo' 'TerroristPoliticalPostDetails' 'BASE TABLE']\n",
      " ['CCISUnicode_MH' 'dbo' 'CrimeRegisterProperties' 'BASE TABLE']\n",
      " ['CCISUnicode_MH' 'dbo' 'TestDefault' 'BASE TABLE']\n",
      " ['CCISUnicode_MH' 'dbo' 'DestBifurDataLog' 'BASE TABLE']\n",
      " ['CCISUnicode_MH' 'dbo' 'TestID' 'BASE TABLE']\n",
      " ['CCISUnicode_MH' 'dbo' 'DoneTable' 'BASE TABLE']\n",
      " ['CCISUnicode_MH' 'dbo' 'ThreshConfig' 'BASE TABLE']\n",
      " ['CCISUnicode_MH' 'dbo' 'EnqParam' 'BASE TABLE']\n",
      " ['CCISUnicode_MH' 'dbo' 'ThreshData' 'BASE TABLE']\n",
      " ['CCISUnicode_MH' 'dbo' 'FIR' 'BASE TABLE']\n",
      " ['CCISUnicode_MH' 'dbo' 'TmpStatistical' 'BASE TABLE']\n",
      " ['CCISUnicode_MH' 'dbo' 'FIRActs' 'BASE TABLE']\n",
      " ['CCISUnicode_MH' 'dbo' 'Tmp_IORank' 'BASE TABLE']\n",
      " ['CCISUnicode_MH' 'dbo' 'FIRAutomobile' 'BASE TABLE']\n",
      " ['CCISUnicode_MH' 'dbo' 'Tmp_IORankID' 'BASE TABLE']\n",
      " ['CCISUnicode_MH' 'dbo' 'FIRCaseDiary' 'BASE TABLE']\n",
      " ['CCISUnicode_MH' 'dbo' 'Tmp_Location' 'BASE TABLE']\n",
      " ['CCISUnicode_MH' 'dbo' 'FIRCaseDiary_Temp' 'BASE TABLE']\n",
      " ['CCISUnicode_MH' 'dbo' 'Tmp_LocationKey' 'BASE TABLE']\n",
      " ['CCISUnicode_MH' 'dbo' 'FIRComplainant' 'BASE TABLE']\n",
      " ['CCISUnicode_MH' 'dbo' 'Tmp_Methodkey' 'BASE TABLE']\n",
      " ['CCISUnicode_MH' 'dbo' 'FIRContentsInfo' 'BASE TABLE']\n",
      " ['CCISUnicode_MH' 'dbo' 'Tmp_SectionKey' 'BASE TABLE']\n",
      " ['CCISUnicode_MH' 'dbo' 'FIRContentsInfo_Temp' 'BASE TABLE']\n",
      " ['CCISUnicode_MH' 'dbo' 'Tmp_Upd_Section' 'BASE TABLE']\n",
      " ['CCISUnicode_MH' 'dbo' 'FIRCrimeDetails' 'BASE TABLE']\n",
      " ['CCISUnicode_MH' 'dbo' 'UnDefArrestSurrenderPersonDetail' 'BASE TABLE']\n",
      " ['CCISUnicode_MH' 'dbo' 'FIRCulturalProperty' 'BASE TABLE']\n",
      " ['CCISUnicode_MH' 'dbo' 'UnDefArrestsurrenderPropertydetail' 'BASE TABLE']\n",
      " ['CCISUnicode_MH' 'dbo' 'SCH_INPUTPARAMETER' 'BASE TABLE']\n",
      " ['CCISUnicode_MH' 'dbo' 'FIRCulturalPropertySplFeatures' 'BASE TABLE']\n",
      " ['CCISUnicode_MH' 'dbo' 'UnDefFIR' 'BASE TABLE']\n",
      " ['CCISUnicode_MH' 'dbo' 'rptDataQuantity' 'BASE TABLE']\n",
      " ['CCISUnicode_MH' 'dbo' 'FIRCurrency' 'BASE TABLE']\n",
      " ['CCISUnicode_MH' 'dbo' 'UnDefFIRAutomobile' 'BASE TABLE']\n",
      " ['CCISUnicode_MH' 'dbo' 'FIRDelayInfo' 'BASE TABLE']\n",
      " ['CCISUnicode_MH' 'dbo' 'UnDefFIRComplainant' 'BASE TABLE']\n",
      " ['CCISUnicode_MH' 'dbo' 'FIRDelayInfo_Temp' 'BASE TABLE']\n",
      " ['CCISUnicode_MH' 'dbo' 'sysdiagrams' 'BASE TABLE']\n",
      " ['CCISUnicode_MH' 'dbo' 'UnDefFIRCrimeDetails' 'BASE TABLE']\n",
      " ['CCISUnicode_MH' 'dbo' 'FIRDetail' 'BASE TABLE']\n",
      " ['CCISUnicode_MH' 'dbo' 'UnDefFIRCulturalProperty' 'BASE TABLE']\n",
      " ['CCISUnicode_MH' 'dbo' 'FIRDrugs' 'BASE TABLE']\n",
      " ['CCISUnicode_MH' 'dbo' 'UnDefFIRCulturalPropertySplFeatures' 'BASE TABLE']\n",
      " ['CCISUnicode_MH' 'dbo' 'FIRImage' 'BASE TABLE']\n",
      " ['CCISUnicode_MH' 'dbo' 'UnDefFIRCurrency' 'BASE TABLE']\n",
      " ['CCISUnicode_MH' 'dbo' 'FIRInvestigation' 'BASE TABLE']\n",
      " ['CCISUnicode_MH' 'dbo' 'UnDefFIRDrugs' 'BASE TABLE']\n",
      " ['CCISUnicode_MH' 'dbo' 'FIRInvestigationDetail' 'BASE TABLE']\n",
      " ['CCISUnicode_MH' 'dbo' 'UnDefFIRInvestigation' 'BASE TABLE']\n",
      " ['CCISUnicode_MH' 'dbo' 'FIRInvestigationInfo' 'BASE TABLE']\n",
      " ['CCISUnicode_MH' 'dbo' 'UnDefFIRPersonDeformity' 'BASE TABLE']\n",
      " ['CCISUnicode_MH' 'dbo' 'FIRInvestigationInfo_Temp' 'BASE TABLE']\n",
      " ['CCISUnicode_MH' 'dbo' 'UnDefFIRPersonIdMark' 'BASE TABLE']\n",
      " ['CCISUnicode_MH' 'dbo' 'FIRInvestigation_Temp' 'BASE TABLE']\n",
      " ['CCISUnicode_MH' 'dbo' 'UnDefFIRPersons' 'BASE TABLE']\n",
      " ['CCISUnicode_MH' 'dbo' 'FIRMethods' 'BASE TABLE']\n",
      " ['CCISUnicode_MH' 'dbo' 'UnDefFIRProgress' 'BASE TABLE']\n",
      " ['CCISUnicode_MH' 'dbo' 'FIRPersonDeformity' 'BASE TABLE']\n",
      " ['CCISUnicode_MH' 'dbo' 'UnDefFIRProperty' 'BASE TABLE']\n",
      " ['CCISUnicode_MH' 'dbo' 'FIRPersonIdMark' 'BASE TABLE']\n",
      " ['CCISUnicode_MH' 'dbo' 'UnDefFIRPropertySeizure' 'BASE TABLE']\n",
      " ['CCISUnicode_MH' 'dbo' 'FIRPersons' 'BASE TABLE']\n",
      " ['CCISUnicode_MH' 'dbo' 'UnDefFIRTypeOfPlace' 'BASE TABLE']\n",
      " ['CCISUnicode_MH' 'dbo' 'FIRPlaceOfOccurence' 'BASE TABLE']\n",
      " ['CCISUnicode_MH' 'dbo' 'UnDefFinalReport' 'BASE TABLE']\n",
      " ['CCISUnicode_MH' 'dbo' 'FIRProgress' 'BASE TABLE']\n",
      " ['CCISUnicode_MH' 'dbo' 'UnDefFinalReportPersonDetail' 'BASE TABLE']\n",
      " ['CCISUnicode_MH' 'dbo' 'FIRPropSeizureDetail' 'BASE TABLE']\n",
      " ['CCISUnicode_MH' 'dbo' 'UnDefFinalReportPropertyDetail' 'BASE TABLE']\n",
      " ['CCISUnicode_MH' 'dbo' 'FIRProperty' 'BASE TABLE']\n",
      " ['CCISUnicode_MH' 'dbo' 'UnDefJudgement' 'BASE TABLE']\n",
      " ['CCISUnicode_MH' 'dbo' 'FIRPropertyInfo' 'BASE TABLE']\n",
      " ['CCISUnicode_MH' 'dbo' 'UnDefJudgementPersonDetail' 'BASE TABLE']\n",
      " ['CCISUnicode_MH' 'dbo' 'FIRPropertyInfo_Temp' 'BASE TABLE']\n",
      " ['CCISUnicode_MH' 'dbo' 'UnDefMiscellaneousDetail' 'BASE TABLE']\n",
      " ['CCISUnicode_MH' 'dbo' 'FIRPropertySeizure' 'BASE TABLE']\n",
      " ['CCISUnicode_MH' 'dbo' 'UnDefPersonFeatures' 'BASE TABLE']\n",
      " ['CCISUnicode_MH' 'dbo' 'FIRSeizurePackedDetail' 'BASE TABLE']\n",
      " ['CCISUnicode_MH' 'dbo' 'UnDefPersonPunishment' 'BASE TABLE']\n",
      " ['CCISUnicode_MH' 'dbo' 'FIRSuspectInfo' 'BASE TABLE']\n",
      " ['CCISUnicode_MH' 'dbo' 'UnDefTerroristAddnlDetail' 'BASE TABLE']\n",
      " ['CCISUnicode_MH' 'dbo' 'FIRType' 'BASE TABLE']\n",
      " ['CCISUnicode_MH' 'dbo' 'UnDefTerroristAffiliation' 'BASE TABLE']\n",
      " ['CCISUnicode_MH' 'dbo' 'FIRTypeOfPlace' 'BASE TABLE']\n",
      " ['CCISUnicode_MH' 'dbo' 'UnDefTerroristDetail' 'BASE TABLE']\n",
      " ['CCISUnicode_MH' 'dbo' 'FROMNCRB_Act' 'BASE TABLE']\n",
      " ['CCISUnicode_MH' 'dbo' 'UnDefTerroristHideOuts' 'BASE TABLE']\n",
      " ['CCISUnicode_MH' 'dbo' 'FROMNCRB_Codes' 'BASE TABLE']\n",
      " ['CCISUnicode_MH' 'dbo' 'UnDefTerroristOperation' 'BASE TABLE']\n",
      " ['CCISUnicode_MH' 'dbo' 'FROMNCRB_CrimeHeadTitle' 'BASE TABLE']\n",
      " ['CCISUnicode_MH' 'dbo' 'UnDefWitnessDetail' 'BASE TABLE']\n",
      " ['CCISUnicode_MH' 'dbo' 'FROMNCRB_CrimeMethod' 'BASE TABLE']\n",
      " ['CCISUnicode_MH' 'dbo' 'UndefCrimeHistory' 'BASE TABLE']\n",
      " ['CCISUnicode_MH' 'dbo' 'FROMNCRB_Location' 'BASE TABLE']\n",
      " ['CCISUnicode_MH' 'dbo' 'UndefTerroristBankDetail' 'BASE TABLE']\n",
      " ['CCISUnicode_MH' 'dbo' 'FROMNCRB_MajorHead' 'BASE TABLE']\n",
      " ['CCISUnicode_MH' 'dbo' 'UndefTerroristEmployment' 'BASE TABLE']\n",
      " ['CCISUnicode_MH' 'dbo' 'FROMNCRB_MajorHead_Section' 'BASE TABLE']\n",
      " ['CCISUnicode_MH' 'dbo' 'UndefTerroristExpExplosiveDetails' 'BASE TABLE']\n",
      " ['CCISUnicode_MH' 'dbo' 'FROMNCRB_MinorHead' 'BASE TABLE']\n",
      " ['CCISUnicode_MH' 'dbo' 'UndefTerroristExpWeaponDetails' 'BASE TABLE']\n",
      " ['CCISUnicode_MH' 'dbo' 'FROMNCRB_Section' 'BASE TABLE']\n",
      " ['CCISUnicode_MH' 'dbo' 'UndefTerroristFamilyDetails' 'BASE TABLE']\n",
      " ['CCISUnicode_MH' 'dbo' 'FROMNCRB_Specification' 'BASE TABLE']\n",
      " ['CCISUnicode_MH' 'dbo' 'UndefTerroristInterpolDetails' 'BASE TABLE']\n",
      " ['CCISUnicode_MH' 'dbo' 'FinalReport' 'BASE TABLE']\n",
      " ['CCISUnicode_MH' 'dbo' 'UndefTerroristOtherInfo' 'BASE TABLE']\n",
      " ['CCISUnicode_MH' 'dbo' 'FinalReportPersonDetail' 'BASE TABLE']\n",
      " ['CCISUnicode_MH' 'dbo' 'UndefTerroristPassportDetail' 'BASE TABLE']\n",
      " ['CCISUnicode_MH' 'dbo' 'FinalReportPropertyDetail' 'BASE TABLE']\n",
      " ['CCISUnicode_MH' 'dbo' 'UndefTerroristPersonalDetails' 'BASE TABLE']\n",
      " ['CCISUnicode_MH' 'dbo' 'FinalReport_Temp' 'BASE TABLE']\n",
      " ['CCISUnicode_MH' 'dbo' 'UndefTerroristPoliticalPostDetail' 'BASE TABLE']\n",
      " ['CCISUnicode_MH' 'dbo' 'IO' 'BASE TABLE']\n",
      " ['CCISUnicode_MH' 'dbo' 'UserActivityFilter' 'BASE TABLE']\n",
      " ['CCISUnicode_MH' 'dbo' 'Tmp_IO' 'BASE TABLE']\n",
      " ['CCISUnicode_MH' 'dbo' 'UserAppMenu' 'BASE TABLE']\n",
      " ['CCISUnicode_MH' 'dbo' 'IODetails' 'BASE TABLE']\n",
      " ['CCISUnicode_MH' 'dbo' 'UserInfo' 'BASE TABLE']\n",
      " ['CCISUnicode_MH' 'dbo' 'IORank' 'BASE TABLE']\n",
      " ['CCISUnicode_MH' 'dbo' 'WitnessDetail' 'BASE TABLE']\n",
      " ['CCISUnicode_MH' 'dbo' 'IconLib' 'BASE TABLE']\n",
      " ['CCISUnicode_MH' 'dbo' 'codekey' 'BASE TABLE']\n",
      " ['CCISUnicode_MH' 'dbo' 'IoRankId' 'BASE TABLE']\n",
      " ['CCISUnicode_MH' 'dbo' 'formlabels' 'BASE TABLE']\n",
      " ['CCISUnicode_MH' 'dbo' 'Judgement' 'BASE TABLE']\n",
      " ['CCISUnicode_MH' 'dbo' 'rptDataQuantityTotalsPSWise' 'BASE TABLE']\n",
      " ['CCISUnicode_MH' 'dbo' 'JudgementPersonDetail' 'BASE TABLE']\n",
      " ['CCISUnicode_MH' 'dbo' 'rptTempFIRDataQuantity' 'BASE TABLE']\n",
      " ['CCISUnicode_MH' 'dbo' 'Language' 'BASE TABLE']\n",
      " ['CCISUnicode_MH' 'dbo' 'sms' 'BASE TABLE']\n",
      " ['CCISUnicode_MH' 'dbo' 'Location' 'BASE TABLE']\n",
      " ['CCISUnicode_MH' 'dbo' 'tablelistccis' 'BASE TABLE']\n",
      " ['CCISUnicode_MH' 'dbo' 'LocationKey' 'BASE TABLE']\n",
      " ['CCISUnicode_MH' 'dbo' 'tablelistccis1' 'BASE TABLE']\n",
      " ['CCISUnicode_MH' 'dbo' 'LocationType' 'BASE TABLE']\n",
      " ['CCISUnicode_MH' 'dbo' 'tempdistrict' 'BASE TABLE']\n",
      " ['CCISUnicode_MH' 'dbo' 'Location_new' 'BASE TABLE']\n",
      " ['CCISUnicode_MH' 'dbo' 'temppStation' 'BASE TABLE']\n",
      " ['CCISUnicode_MH' 'dbo' 'LockUpBailerDetail' 'BASE TABLE']\n",
      " ['CCISUnicode_MH' 'dbo' 'tempstate' 'BASE TABLE']\n",
      " ['CCISUnicode_MH' 'dbo' 'LockUpRegister' 'BASE TABLE']\n",
      " ['CCISUnicode_MH' 'dbo' 'tmpPersonMatch' 'BASE TABLE']\n",
      " ['CCISUnicode_MH' 'dbo' 'MajorHead' 'BASE TABLE']\n",
      " ['CCISUnicode_MH' 'dbo' 'tmp_Upd_Location' 'BASE TABLE']\n",
      " ['CCISUnicode_MH' 'dbo' 'MajorHeadKey' 'BASE TABLE']\n",
      " ['CCISUnicode_MH' 'dbo' 'tt' 'BASE TABLE']\n",
      " ['CCISUnicode_MH' 'dbo' 'MajorHead_Section' 'BASE TABLE']\n",
      " ['CCISUnicode_MH' 'dbo' 'Message' 'BASE TABLE']\n",
      " ['CCISUnicode_MH' 'dbo' 'Message_MM05' 'BASE TABLE']\n",
      " ['CCISUnicode_MH' 'dbo' 'MethodKey' 'BASE TABLE']\n",
      " ['CCISUnicode_MH' 'dbo' 'MinorHead' 'BASE TABLE']\n",
      " ['CCISUnicode_MH' 'dbo' 'rptUserCount' 'BASE TABLE']\n",
      " ['CCISUnicode_MH' 'dbo' 'MinorHeadKey' 'BASE TABLE']\n",
      " ['CCISUnicode_MH' 'dbo' 'MiscellaneousDetail' 'BASE TABLE']\n",
      " ['CCISUnicode_MH' 'dbo' 'NCRBCONFIG' 'BASE TABLE']\n",
      " ['CCISUnicode_MH' 'dbo' 'NCRBFilter' 'BASE TABLE']\n",
      " ['CCISUnicode_MH' 'dbo' 'NCRBForms' 'BASE TABLE']\n",
      " ['CCISUnicode_MH' 'dbo' 'NCRBMessage' 'BASE TABLE']\n",
      " ['CCISUnicode_MH' 'dbo' 'NOCDetail' 'BASE TABLE']\n",
      " ['CCISUnicode_MH' 'dbo' 'NOCHeader' 'BASE TABLE']\n",
      " ['CCISUnicode_MH' 'dbo' 'NewIO' 'BASE TABLE']\n",
      " ['CCISUnicode_MH' 'dbo' 'Object_Tables' 'BASE TABLE']\n",
      " ['CCISUnicode_MH' 'dbo' 'PairaviRegister' 'BASE TABLE']\n",
      " ['CCISUnicode_MH' 'dbo' 'PairaviRegisterPersonDetail' 'BASE TABLE']\n",
      " ['CCISUnicode_MH' 'dbo' 'PairaviRegisterWitnessDetail' 'BASE TABLE']\n",
      " ['CCISUnicode_MH' 'dbo' 'PersonActSection' 'BASE TABLE']\n",
      " ['CCISUnicode_MH' 'dbo' 'PersonAddress' 'BASE TABLE']\n",
      " ['CCISUnicode_MH' 'dbo' 'PersonFeatures' 'BASE TABLE']\n",
      " ['CCISUnicode_MH' 'dbo' 'PersonNumber' 'BASE TABLE']\n",
      " ['CCISUnicode_MH' 'dbo' 'PersonPunishment' 'BASE TABLE']\n",
      " ['CCISUnicode_MH' 'dbo' 'PersonRelationDetail' 'BASE TABLE']\n",
      " ['CCISUnicode_MH' 'dbo' 'ACT' 'BASE TABLE']\n",
      " ['CCISUnicode_MH' 'dbo' 'PropertyMatch' 'BASE TABLE']\n",
      " ['CCISUnicode_MH' 'dbo' 'ACT_New' 'BASE TABLE']\n",
      " ['CCISUnicode_MH' 'dbo' 'PropertyType' 'BASE TABLE']\n",
      " ['CCISUnicode_MH' 'dbo' 'ActCode' 'BASE TABLE']\n",
      " ['CCISUnicode_MH' 'dbo' 'PropertyTypeId' 'BASE TABLE']\n",
      " ['CCISUnicode_MH' 'dbo' 'Action' 'BASE TABLE']\n",
      " ['CCISUnicode_MH' 'dbo' 'ReportConfig' 'BASE TABLE']\n",
      " ['CCISUnicode_MH' 'dbo' 'Activity' 'BASE TABLE']\n",
      " ['CCISUnicode_MH' 'dbo' 'ReportHeaders' 'BASE TABLE']\n",
      " ['CCISUnicode_MH' 'dbo' 'ActivityAction' 'BASE TABLE']\n",
      " ['CCISUnicode_MH' 'dbo' 'ReportLabels' 'BASE TABLE']\n",
      " ['CCISUnicode_MH' 'dbo' 'ActivityFilter' 'BASE TABLE']\n",
      " ['CCISUnicode_MH' 'dbo' 'RoleAccess' 'BASE TABLE']\n",
      " ['CCISUnicode_MH' 'dbo' 'ActivityLang' 'BASE TABLE']\n",
      " ['CCISUnicode_MH' 'dbo' 'ScannedImage' 'BASE TABLE']\n",
      " ['CCISUnicode_MH' 'dbo' 'ActivityModule' 'BASE TABLE']\n",
      " ['CCISUnicode_MH' 'dbo' 'Section' 'BASE TABLE']\n",
      " ['CCISUnicode_MH' 'dbo' 'AllTable' 'BASE TABLE']\n",
      " ['CCISUnicode_MH' 'dbo' 'SectionKey' 'BASE TABLE']\n",
      " ['CCISUnicode_MH' 'dbo' 'AppMenu' 'BASE TABLE']]\n",
      " Total tables are  250\n"
     ]
    }
   ],
   "source": [
    "cursor.execute(\"SELECT * FROM information_schema.tables WHERE TABLE_TYPE='BASE TABLE' AND TABLE_SCHEMA = 'dbo'\")\n",
    "\n",
    "tables = cursor.fetchall()\n",
    "\n",
    "import numpy as np\n",
    "tables = np.array(tables)\n",
    "print (tables)\n",
    "print(\" Total tables are  %s\" % len(tables))"
   ]
  },
  {
   "cell_type": "code",
   "execution_count": 80,
   "metadata": {},
   "outputs": [
    {
     "name": "stdout",
     "output_type": "stream",
     "text": [
      "dbo.Section_NEW\n"
     ]
    }
   ],
   "source": [
    "ntables = []\n",
    "for i in range(len(tables)):\n",
    "    ntables.append(\".\".join(tables[i][1:3]))\n",
    "\n",
    "tables = ntables\n",
    "print(tables[0])"
   ]
  },
  {
   "cell_type": "code",
   "execution_count": 81,
   "metadata": {},
   "outputs": [],
   "source": [
    "comm = \"SELECT TABLE_NAME, COLUMN_NAME FROM INFORMATION_SCHEMA.COLUMNS\"\n",
    "cursor.execute(comm)\n",
    "\n",
    "data = cursor.fetchall()\n",
    "\n",
    "data = np.array(data)\n",
    "\n",
    "\n",
    "\n",
    "# Add in Dictionory for each table\n",
    "\n",
    "columns = {}\n",
    "\n",
    "for i,j in data:\n",
    "    columns[i] = []\n",
    "\n",
    "for i,j in data:\n",
    "    columns[i] += [j]\n",
    "\n",
    "#print(columns)"
   ]
  },
  {
   "cell_type": "code",
   "execution_count": 6,
   "metadata": {},
   "outputs": [
    {
     "name": "stdout",
     "output_type": "stream",
     "text": [
      "6 ('43   ', Decimal('14011720043052'), 14, 946, 2, '43-294         ') ['ActCode', 'FIRNo', 'MajorHeadKey', 'MethodKey', 'OlapTrans', 'SectionKey'] dbo.FIRMethods\n"
     ]
    }
   ],
   "source": [
    "\n",
    "comm = \"SELECT TOP(100) \"+ \",\".join(columns[tables[112][4:]]) +\" FROM \" + str(tables[112])\n",
    "cursor.execute(comm)\n",
    "data = cursor.fetchall()\n",
    "\n",
    "print(len(data[16]),data[16],columns[tables[112][4:]],tables[112])"
   ]
  },
  {
   "cell_type": "code",
   "execution_count": 83,
   "metadata": {
    "scrolled": true
   },
   "outputs": [],
   "source": [
    "colsAll = {}\n",
    "\n",
    "for count in range(250):\n",
    "    \n",
    "    comm = \"SELECT TOP(10) \"+ \",\".join(columns[tables[count][4:]]) +\" FROM \" + str(tables[count])\n",
    "    cursor.execute(comm)\n",
    "    data = cursor.fetchall()\n",
    "    \n",
    "    if len(data)  <  5:\n",
    "        continue\n",
    "\n",
    "    for i in columns[tables[count][4:]]:\n",
    "        colsAll[i] = [str(data[2][columns[tables[count][4:]].index(i)]).strip()]\n",
    "    \n",
    "\n",
    "#print(colsAll)"
   ]
  },
  {
   "cell_type": "code",
   "execution_count": 84,
   "metadata": {},
   "outputs": [
    {
     "name": "stdout",
     "output_type": "stream",
     "text": [
      "Total Columns combined are  387 \n",
      "\n",
      " {'FIR': ['ActCode', 'ActionTaken', 'BeatNo', 'DayCode', 'DespatchedOn', 'DistrictCode', 'FIRDate', 'FIRNo', 'FromDate', 'FromTime', 'GDRefNo', 'GDRefTime', 'InChargeCode', 'InChargeRankId', 'InfoRecdDate', 'IOCode', 'IORankId', 'IsWritten', 'MajorHeadKey', 'MinorHeadKey', 'NoOfCopies', 'Number', 'OccurDistance', 'OlapTrans', 'OutsideDistCode', 'OutsidePSCode', 'PaharCode', 'PoliceStationCode', 'SectionKey', 'Status', 'ThreshDate', 'ThreshStatus', 'ToDate', 'ToTime', 'TotPropertyValue', 'TransferredPSCode', 'Type', 'UDCodesStatus', 'UDNo', 'UpdatedBy', 'UpdatedOn', 'VerifiedStatus'], 'FIRActs': ['ActCode', 'FIRNo', 'FormId', 'MajorHeadKey', 'MinorHeadKey', 'OlapTrans', 'SDate', 'SectionKey', 'SerialNo'], 'FIRAutomobile': ['BelongsTo', 'ChasisNumber', 'ChasisNumberKey', 'ColorCodeId', 'ColorPeculiarity', 'Country', 'EngineNumber', 'EngineNumberKey', 'EstimatedValue', 'FIRNo', 'InsuranceCertNo', 'InsuranceCompany', 'IsInvolved', 'IsRecovered', 'IsSeized', 'IsStolen', 'Make', 'MatchDate', 'Model', 'OlapTrans', 'PropertyType', 'RegistrationNumber', 'RegistrationNumberKey', 'SDate', 'SLNo', 'SubCodeId', 'UpdatedBy', 'UpdatedOn'], 'FIRCaseDiary': ['CaseDiaryNo', 'Contents', 'EntryDate', 'EntryTime', 'FIRNo', 'UpdatedBy', 'UpdatedOn', 'VerifiedStatus'], 'FIRComplainant': ['Area', 'City', 'Complainant', 'DateOfBirth', 'DateOfIssue', 'FIRNo', 'Nationality', 'Occupation', 'PassportNumber', 'Pin', 'PlaceOfIssue', 'Relationship', 'RelationshipName', 'SLNo', 'State', 'Street'], 'FIRCulturalProperty': ['ADBC', 'Age', 'ASICertificateNo', 'BelongsTo', 'Breadh', 'Depth', 'EstimatedValue', 'FIRNo', 'Height', 'InsuranceCertNo', 'InsuranceCompany', 'IsInvolved', 'IsPhotoGraphTaken', 'IsRecovered', 'IsSeized', 'IsStolen', 'MatchDate', 'MaterialUsed', 'Nomenclature', 'OlapTrans', 'PropertyType', 'Quantity', 'SDate', 'SLNo', 'SubCodeId', 'UpdatedBy', 'UpdatedOn', 'Weight'], 'rptDataQuantity': ['FIRDate', 'FIRNo', 'LocationKey', 'TotArrest', 'TotCounterfeitCurrency', 'TotCourtDisposal', 'TotCrimeDetail', 'TotCultProp', 'TotCycles', 'TotDrugs', 'TotFinalReport', 'TotFireArms', 'TotKidnapped', 'TotMissing', 'TotMotorVehicles', 'TotOtherNum', 'TotPropertySeizure', 'TotResultOfAppeal', 'TotTerrorist', 'TotTraced', 'TotUnidentifiedDeadBody', 'TotUnnumProp', 'TotWanted', 'Type'], 'FIRCurrency': ['CurrencyType', 'Denomination', 'FIRNo', 'FromSerialNo', 'OlapTrans', 'Pieces', 'PropertyType', 'SDate', 'Series', 'SLNo', 'ToSerialNo', 'UpdatedBy', 'UpdatedOn'], 'FIRDrugs': ['ConvFactor', 'ConvUOM', 'DrugId', 'DrugValue', 'FIRNo', 'MethodOfConcealment', 'OlapTrans', 'PropertyType', 'Quantity', 'SDate', 'SLNo', 'UOM', 'UpdatedBy', 'UpdatedOn', 'Weight'], 'FIRInvestigation': ['Area', 'City', 'DescriptionOfPlace', 'FIRNo', 'InvestigationNo', 'IOCode', 'IORankId', 'Motive', 'OccFromDate', 'OccToDate', 'OlapTrans', 'PhysicalEvidence', 'Pin', 'Relationship', 'RelationshipName', 'Sex', 'ShownBy', 'SketchByDraftMan', 'State', 'Street', 'UpdatedBy', 'UpdatedOn', 'VerifiedStatus', 'VisitingDate', 'WitnessAddress1', 'WitnessAddress2', 'WitnessName1', 'WitnessName2'], 'FIRInvestigationInfo': ['FIRNo', 'Investigation', 'InvestigationNo'], 'FIRMethods': ['ActCode', 'FIRNo', 'MajorHeadKey', 'MethodKey', 'OlapTrans', 'SectionKey'], 'FIRPersonDeformity': ['DeformityId', 'FIRNo', 'OlapTrans', 'SLNo'], 'FIRPersonIdMark': ['FIRNo', 'IdMark', 'SLNo'], 'FIRPersons': ['Build', 'BurnMark', 'Caste', 'Complexion', 'DOB', 'DressHabit', 'Education', 'ExpectedReleaseDate', 'Eye', 'FIRNo', 'FNameSdx1', 'FNameSdx2', 'FNameSdx3', 'FNameSdx4', 'Habit', 'Hair', 'Height', 'IncomeGroup', 'Injury', 'IssueDate', 'IssuePlace', 'Language', 'LatestFormId', 'Leucorderma', 'LivingStatus', 'MatchDate', 'Means', 'Mole', 'NameSdx1', 'NameSdx2', 'NameSdx3', 'NameSdx4', 'Nationality', 'Occupation', 'OlapTrans', 'PassportNo', 'PersonName', 'PersonType', 'PNo', 'PropertyType', 'Relationship', 'RelationshipName', 'Religion', 'Scar', 'SCST', 'SDate', 'Sex', 'SLNo', 'Status', 'Tattoo', 'Teeth', 'UpdatedBy', 'UpdatedOn', 'VoterIdCardNo'], 'FIRPlaceOfOccurence': ['Area', 'City', 'FIRNo', 'Pin', 'PlaceType', 'State', 'Street'], 'FIRProgress': ['FIRNo', 'InvestigationStage', 'ProgressDate', 'TrialCourt', 'TrialStage', 'UpdatedOn', 'VerifiedStatus'], 'FIRProperty': ['BelongsTo', 'Country', 'EstimatedValue', 'FIRNo', 'IdentityMarks', 'InsuranceCertNo', 'InsuranceCompany', 'IsInvolved', 'IsRecovered', 'IsSeized', 'IsStolen', 'MainCodeId', 'Make', 'ManufacturerNumber', 'ManufacturerNumberKey', 'MatchDate', 'Model', 'Olaptrans', 'PropertyType', 'Quantity', 'SDate', 'SLNo', 'SubCodeId', 'Unit', 'UOM', 'UpdatedBy', 'UpdatedOn'], 'FIRSuspectInfo': ['FIRNo', 'SlNo', 'Suspect'], 'FinalReportPersonDetail': ['AccusedStatus', 'AddressVerified', 'ArrestDate', 'BailDate', 'Chargesheeted', 'FIRNo', 'FormId', 'ForwardedToCourtDate', 'NameVerified', 'PreviousConvictions', 'RemarksfornotChargesheet', 'reportdate', 'ReportNo', 'SLNo', 'SuspicionApproved'], 'FinalReportPropertyDetail': ['Disposal', 'EstimatedValue', 'FIRNo', 'MajorCode', 'MinorCode', 'PropertyRegNo', 'PropertyTypeID', 'RecoveredFrom', 'reportdate', 'ReportNo', 'SLNo'], 'Judgement': ['Acquittalreason', 'AppealDate', 'AppealNumber', 'AppealPreferred', 'AppellentParty', 'CaseType', 'ChargeSheetDate', 'ChargeSheetNo', 'CommentsbyCourt', 'CourtCode', 'DateFramingCharge', 'FIRNo', 'FormId', 'FRNumber', 'JTYPE', 'JudgementDate', 'NotableObservation', 'Number', 'OlapTrans', 'ProsecutorName', 'RemarksonFurtherAppeal', 'Type', 'UpdatedBy', 'UpdatedOn', 'VerifiedStatus'], 'JudgementPersonDetail': ['DisposalType', 'FingerPrintTaken', 'FIRNo', 'FormId', 'FRNumber', 'Judgementdate', 'Number', 'OlapTrans', 'ResultOfAppeal', 'SlNo', 'Type']}\n"
     ]
    }
   ],
   "source": [
    "#\n",
    "# Fir Info \n",
    "# Tables that contains FirNo as reference \n",
    "\n",
    "\n",
    "'''\n",
    "\n",
    "FIR\n",
    "FIRActs\n",
    "FIRAutomobile\n",
    "FIRCaseDiary\n",
    "FIRComplainant\n",
    "FIRCulturalProperty\n",
    "FIRCurrency\n",
    "FIRDrugs\n",
    "FIRInvestigation\n",
    "FIRInvestigationInfo\n",
    "FIRMethods\n",
    "FIRPersonDeformity\n",
    "FIRPersonIdMark\n",
    "FIRPersons\n",
    "FIRPlaceOfOccurence\n",
    "FIRProgress\n",
    "FIRProperty\n",
    "FIRSuspectInfo\n",
    "FinalReportPersonDetail\n",
    "FinalReportPropertyDetail\n",
    "\n",
    "Judgement\n",
    "JudgementPersonDetail\n",
    "PersonAddress  ?? \n",
    "PersonNumber   ??\n",
    "rptDataQuantity\n",
    "\n",
    "Total = 25\n",
    "'''\n",
    "\n",
    "# throw other columns \n",
    "tmp = [ \"FIR\",\"FIRActs\",\"FIRAutomobile\",\"FIRCaseDiary\",\"FIRComplainant\",\"FIRCulturalProperty\",\"FIRCurrency\",\"FIRDrugs\",\"FIRInvestigation\",\"FIRInvestigationInfo\",\"FIRMethods\",\"FIRPersonDeformity\",\"FIRPersonIdMark\",\"FIRPersons\",\"FIRPlaceOfOccurence\",\"FIRProgress\",\"FIRProperty\",\"FIRSuspectInfo\",\"FinalReportPersonDetail\",\"FinalReportPropertyDetail\",\"Judgement\",\"JudgementPersonDetail\",\"rptDataQuantity\" ]\n",
    "\n",
    "tmpColumns = {}\n",
    "c = 0\n",
    "for i in columns.keys():\n",
    "    if i in tmp:\n",
    "        tmpColumns[i] = columns[i]\n",
    "        c += len(columns[i])\n",
    "\n",
    "columns = tmpColumns\n",
    "\n",
    "print(\"Total Columns combined are \" , c , \"\\n\\n\",columns)"
   ]
  },
  {
   "cell_type": "code",
   "execution_count": 14,
   "metadata": {},
   "outputs": [
    {
     "name": "stdout",
     "output_type": "stream",
     "text": [
      "[(16673703, )]\n"
     ]
    }
   ],
   "source": [
    "\n",
    "\n",
    "# Join the selected 23 tables\n",
    "\n",
    "\n",
    "\n",
    "\n",
    "comm = \"SELECT  COUNT(*) FROM FIR f \\\n",
    "            FULL JOIN FIRActs fa ON f.FIRNo = fa.FIRNo \\\n",
    "            FULL JOIN FIRAutomobile fat ON fa.FIRNo = fat.FIRNo \\\n",
    "            FULL JOIN FIRCaseDiary fc ON fat.FIRNo = fc.FIRNo \\\n",
    "            FULL JOIN FIRComplainant fcm ON fc.FIRNo = fcm.FIRNo \\\n",
    "            FULL JOIN FIRCulturalProperty fcp ON fcm.FIRNo = fcp.FIRNo \\\n",
    "            FULL JOIN FIRCurrency fcc ON fcp.FIRNo = fcc.FIRNo \\\n",
    "            FULL JOIN FIRDrugs fd ON fcc.FIRNo = fd.FIRNo \\\n",
    "            FULL JOIN FIRInvestigation fi ON fd.FIRNo = fi.FIRNo\\\n",
    "            FULL JOIN FIRInvestigationInfo fii ON fi.FIRNo = fii.FIRNo\\\n",
    "            FULL JOIN FIRMethods fm ON fii.FIRNo = fm.FIRNo\\\n",
    "            FULL JOIN FIRPersonDeformity fpd ON fm.FIRNo = fpd.FIRNo\\\n",
    "            FULL JOIN FIRPersonIdMark fpim ON fpd.FIRNo = fpim.FIRNo\\\n",
    "            FULL JOIN FIRPersons fp ON fpim.FIRNo = fp.FIRNo\\\n",
    "            FULL JOIN FIRPlaceOfOccurence fpo ON fp.FIRNo = fpo.FIRNo\\\n",
    "            FULL JOIN FIRProgress fpr ON fpo.FIRNo = fpr.FIRNo\\\n",
    "            FULL JOIN FIRProperty fpro ON fpr.FIRNo = fpro.FIRNo\\\n",
    "            FULL JOIN FIRSuspectInfo fsi ON fpro.FIRNo = fsi.FIRNo\\\n",
    "            FULL JOIN FinalReportPersonDetail frpd ON fsi.FIRNo = frpd.FIRNo\\\n",
    "            FULL JOIN FinalReportPropertyDetail frppd ON frpd.FIRNo = frppd.FIRNo\\\n",
    "            FULL JOIN Judgement j ON frppd.FIRNo = j.FIRNo\\\n",
    "            FULL JOIN JudgementPersonDetail jp ON j.FIRNo = jp.FIRNo\\\n",
    "            FULL JOIN rptDataQuantity rdq ON jp.FIRNo = rdq.FIRNo\";\n",
    "\n",
    "cursor.execute(comm)\n",
    "data = cursor.fetchall()\n",
    "print(data)"
   ]
  },
  {
   "cell_type": "code",
   "execution_count": null,
   "metadata": {
    "collapsed": true
   },
   "outputs": [],
   "source": [
    "\n",
    "\n",
    "# Get Top 100 rows\n",
    "\n",
    "comm = \"SELECT  TOP(100) * FROM FIR f \\\n",
    "            FULL JOIN FIRActs fa ON f.FIRNo = fa.FIRNo \\\n",
    "            FULL JOIN FIRAutomobile fat ON fa.FIRNo = fat.FIRNo \\\n",
    "            FULL JOIN FIRCaseDiary fc ON fat.FIRNo = fc.FIRNo \\\n",
    "            FULL JOIN FIRComplainant fcm ON fc.FIRNo = fcm.FIRNo \\\n",
    "            FULL JOIN FIRCulturalProperty fcp ON fcm.FIRNo = fcp.FIRNo \\\n",
    "            FULL JOIN FIRCurrency fcc ON fcp.FIRNo = fcc.FIRNo \\\n",
    "            FULL JOIN FIRDrugs fd ON fcc.FIRNo = fd.FIRNo \\\n",
    "            FULL JOIN FIRInvestigation fi ON fd.FIRNo = fi.FIRNo\\\n",
    "            FULL JOIN FIRInvestigationInfo fii ON fi.FIRNo = fii.FIRNo\\\n",
    "            FULL JOIN FIRMethods fm ON fii.FIRNo = fm.FIRNo\\\n",
    "            FULL JOIN FIRPersonDeformity fpd ON fm.FIRNo = fpd.FIRNo\\\n",
    "            FULL JOIN FIRPersonIdMark fpim ON fpd.FIRNo = fpim.FIRNo\\\n",
    "            FULL JOIN FIRPersons fp ON fpim.FIRNo = fp.FIRNo\\\n",
    "            FULL JOIN FIRPlaceOfOccurence fpo ON fp.FIRNo = fpo.FIRNo\\\n",
    "            FULL JOIN FIRProgress fpr ON fpo.FIRNo = fpr.FIRNo\\\n",
    "            FULL JOIN FIRProperty fpro ON fpr.FIRNo = fpro.FIRNo\\\n",
    "            FULL JOIN FIRSuspectInfo fsi ON fpro.FIRNo = fsi.FIRNo\\\n",
    "            FULL JOIN FinalReportPersonDetail frpd ON fsi.FIRNo = frpd.FIRNo\\\n",
    "            FULL JOIN FinalReportPropertyDetail frppd ON frpd.FIRNo = frppd.FIRNo\\\n",
    "            FULL JOIN Judgement j ON frppd.FIRNo = j.FIRNo\\\n",
    "            FULL JOIN JudgementPersonDetail jp ON j.FIRNo = jp.FIRNo\\\n",
    "            FULL JOIN rptDataQuantity rdq ON jp.FIRNo = rdq.FIRNo\";\n",
    "\n",
    "cursor.execute(comm)\n",
    "data = cursor.fetchall()\n",
    "print(data)"
   ]
  },
  {
   "cell_type": "code",
   "execution_count": 9,
   "metadata": {},
   "outputs": [
    {
     "name": "stdout",
     "output_type": "stream",
     "text": [
      "23\n"
     ]
    }
   ],
   "source": [
    "\n",
    "\n",
    "# CHeck for fir's entry in each table and file unique fir's\n",
    "\n",
    "\n",
    "firAll = {}\n",
    "\n",
    "for i in columns.keys():\n",
    "    \n",
    "    comm = \"SELECT \"+ i +\".FIRNo FROM \" + str(i)\n",
    "    cursor.execute(comm)\n",
    "    data = cursor.fetchall()\n",
    "    \n",
    "    firAll[i] = data\n",
    "\n",
    "print(len(firAll))\n"
   ]
  },
  {
   "cell_type": "code",
   "execution_count": 10,
   "metadata": {},
   "outputs": [
    {
     "name": "stdout",
     "output_type": "stream",
     "text": [
      "FIR  ->  1873103\n",
      "FIRActs  ->  6000118\n",
      "FIRAutomobile  ->  46944\n",
      "FIRCaseDiary  ->  25\n",
      "FIRComplainant  ->  1437931\n",
      "FIRCulturalProperty  ->  794\n",
      "rptDataQuantity  ->  1873103\n",
      "FIRCurrency  ->  663\n",
      "FIRDrugs  ->  61194\n",
      "FIRInvestigation  ->  1269134\n",
      "FIRInvestigationInfo  ->  58514\n",
      "FIRMethods  ->  728075\n",
      "FIRPersonDeformity  ->  626\n",
      "FIRPersonIdMark  ->  39143\n",
      "FIRPersons  ->  2616553\n",
      "FIRPlaceOfOccurence  ->  1761926\n",
      "FIRProgress  ->  22\n",
      "FIRProperty  ->  415444\n",
      "FIRSuspectInfo  ->  413623\n",
      "FinalReportPersonDetail  ->  1016608\n",
      "FinalReportPropertyDetail  ->  321\n",
      "Judgement  ->  137179\n",
      "JudgementPersonDetail  ->  164955\n"
     ]
    }
   ],
   "source": [
    "\n",
    "for i in firAll.keys():\n",
    "    print(i, \" -> \",len(firAll[i]))"
   ]
  },
  {
   "cell_type": "code",
   "execution_count": 11,
   "metadata": {},
   "outputs": [
    {
     "name": "stdout",
     "output_type": "stream",
     "text": [
      "1873103\n"
     ]
    }
   ],
   "source": [
    "firs = set()\n",
    "\n",
    "\n",
    "for i in firAll.keys():\n",
    "    for j in firAll[i]:\n",
    "        firs.add(str(j)[10:-5])\n",
    "\n",
    "\n",
    "print(len(firs))  # Total unique FIRS"
   ]
  },
  {
   "cell_type": "code",
   "execution_count": 12,
   "metadata": {},
   "outputs": [
    {
     "name": "stdout",
     "output_type": "stream",
     "text": [
      "1873103\n"
     ]
    }
   ],
   "source": [
    "# Dictionary :  key is FIRNo and data is all related to FIRno\n",
    "# Post Problem : manage  the columns name\n",
    "firsDict = {}\n",
    "for i in firs:\n",
    "    firsDict[i] = []\n",
    "print(len(firsDict))"
   ]
  },
  {
   "cell_type": "code",
   "execution_count": 13,
   "metadata": {},
   "outputs": [
    {
     "name": "stdout",
     "output_type": "stream",
     "text": [
      "1 [(Decimal('14020820020006'), 2, 2318, 2, Decimal('14020820020006'), 1, 1, 878, '7CM  ', 973411, 0, 1, 100, datetime.datetime(2002, 7, 2, 13, 32, 25, 310000), datetime.datetime(2002, 3, 12, 0, 0), 'Administrator       ', 2)]\n"
     ]
    }
   ],
   "source": [
    "comm = \"SELECT  * FROM FIRPersonDeformity f \\\n",
    "            JOIN FIRCurrency fa ON f.FIRNo = fa.FIRNo \";\n",
    "cursor.execute(comm)\n",
    "data = cursor.fetchall()\n",
    "\n",
    "print(len(data),data)"
   ]
  },
  {
   "cell_type": "code",
   "execution_count": 14,
   "metadata": {},
   "outputs": [
    {
     "name": "stdout",
     "output_type": "stream",
     "text": [
      "1 {'14020820020006'}\n"
     ]
    }
   ],
   "source": [
    "aa = set()\n",
    "\n",
    "for d in data:\n",
    "    aa.add(str(d[4]))\n",
    "print(len(aa),aa)"
   ]
  },
  {
   "cell_type": "code",
   "execution_count": 64,
   "metadata": {},
   "outputs": [
    {
     "name": "stdout",
     "output_type": "stream",
     "text": [
      "365 ['FIRNo1', 'ActCode2', 'ActionTaken3', 'BeatNo4', 'DayCode5', 'DespatchedOn6', 'DistrictCode7', 'FIRDate8', 'FromDate9', 'FromTime10', 'GDRefNo11', 'GDRefTime12', 'InChargeCode13', 'InChargeRankId14', 'InfoRecdDate15', 'IOCode16', 'IORankId17', 'IsWritten18', 'MajorHeadKey19', 'MinorHeadKey20', 'NoOfCopies21', 'Number22', 'OccurDistance23', 'OlapTrans24', 'OutsideDistCode25', 'OutsidePSCode26', 'PaharCode27', 'PoliceStationCode28', 'SectionKey29', 'Status30', 'ThreshDate31', 'ThreshStatus32', 'ToDate33', 'ToTime34', 'TotPropertyValue35', 'TransferredPSCode36', 'Type37', 'UDCodesStatus38', 'UDNo39', 'UpdatedBy40', 'UpdatedOn41', 'VerifiedStatus42', 'ActCode43', 'FormId44', 'MajorHeadKey45', 'MinorHeadKey46', 'OlapTrans47', 'SDate48', 'SectionKey49', 'SerialNo50', 'BelongsTo51', 'ChasisNumber52', 'ChasisNumberKey53', 'ColorCodeId54', 'ColorPeculiarity55', 'Country56', 'EngineNumber57', 'EngineNumberKey58', 'EstimatedValue59', 'InsuranceCertNo60', 'InsuranceCompany61', 'IsInvolved62', 'IsRecovered63', 'IsSeized64', 'IsStolen65', 'Make66', 'MatchDate67', 'Model68', 'OlapTrans69', 'PropertyType70', 'RegistrationNumber71', 'RegistrationNumberKey72', 'SDate73', 'SLNo74', 'SubCodeId75', 'UpdatedBy76', 'UpdatedOn77', 'CaseDiaryNo78', 'Contents79', 'EntryDate80', 'EntryTime81', 'UpdatedBy82', 'UpdatedOn83', 'VerifiedStatus84', 'Area85', 'City86', 'Complainant87', 'DateOfBirth88', 'DateOfIssue89', 'Nationality90', 'Occupation91', 'PassportNumber92', 'Pin93', 'PlaceOfIssue94', 'Relationship95', 'RelationshipName96', 'SLNo97', 'State98', 'Street99', 'ADBC100', 'Age101', 'ASICertificateNo102', 'BelongsTo103', 'Breadh104', 'Depth105', 'EstimatedValue106', 'Height107', 'InsuranceCertNo108', 'InsuranceCompany109', 'IsInvolved110', 'IsPhotoGraphTaken111', 'IsRecovered112', 'IsSeized113', 'IsStolen114', 'MatchDate115', 'MaterialUsed116', 'Nomenclature117', 'OlapTrans118', 'PropertyType119', 'Quantity120', 'SDate121', 'SLNo122', 'SubCodeId123', 'UpdatedBy124', 'UpdatedOn125', 'Weight126', 'FIRDate127', 'LocationKey128', 'TotArrest129', 'TotCounterfeitCurrency130', 'TotCourtDisposal131', 'TotCrimeDetail132', 'TotCultProp133', 'TotCycles134', 'TotDrugs135', 'TotFinalReport136', 'TotFireArms137', 'TotKidnapped138', 'TotMissing139', 'TotMotorVehicles140', 'TotOtherNum141', 'TotPropertySeizure142', 'TotResultOfAppeal143', 'TotTerrorist144', 'TotTraced145', 'TotUnidentifiedDeadBody146', 'TotUnnumProp147', 'TotWanted148', 'Type149', 'CurrencyType150', 'Denomination151', 'FromSerialNo152', 'OlapTrans153', 'Pieces154', 'PropertyType155', 'SDate156', 'Series157', 'SLNo158', 'ToSerialNo159', 'UpdatedBy160', 'UpdatedOn161', 'ConvFactor162', 'ConvUOM163', 'DrugId164', 'DrugValue165', 'MethodOfConcealment166', 'OlapTrans167', 'PropertyType168', 'Quantity169', 'SDate170', 'SLNo171', 'UOM172', 'UpdatedBy173', 'UpdatedOn174', 'Weight175', 'Area176', 'City177', 'DescriptionOfPlace178', 'InvestigationNo179', 'IOCode180', 'IORankId181', 'Motive182', 'OccFromDate183', 'OccToDate184', 'OlapTrans185', 'PhysicalEvidence186', 'Pin187', 'Relationship188', 'RelationshipName189', 'Sex190', 'ShownBy191', 'SketchByDraftMan192', 'State193', 'Street194', 'UpdatedBy195', 'UpdatedOn196', 'VerifiedStatus197', 'VisitingDate198', 'WitnessAddress1199', 'WitnessAddress2200', 'WitnessName1201', 'WitnessName2202', 'Investigation203', 'InvestigationNo204', 'ActCode205', 'MajorHeadKey206', 'MethodKey207', 'OlapTrans208', 'SectionKey209', 'DeformityId210', 'OlapTrans211', 'SLNo212', 'IdMark213', 'SLNo214', 'Build215', 'BurnMark216', 'Caste217', 'Complexion218', 'DOB219', 'DressHabit220', 'Education221', 'ExpectedReleaseDate222', 'Eye223', 'FNameSdx1224', 'FNameSdx2225', 'FNameSdx3226', 'FNameSdx4227', 'Habit228', 'Hair229', 'Height230', 'IncomeGroup231', 'Injury232', 'IssueDate233', 'IssuePlace234', 'Language235', 'LatestFormId236', 'Leucorderma237', 'LivingStatus238', 'MatchDate239', 'Means240', 'Mole241', 'NameSdx1242', 'NameSdx2243', 'NameSdx3244', 'NameSdx4245', 'Nationality246', 'Occupation247', 'OlapTrans248', 'PassportNo249', 'PersonName250', 'PersonType251', 'PNo252', 'PropertyType253', 'Relationship254', 'RelationshipName255', 'Religion256', 'Scar257', 'SCST258', 'SDate259', 'Sex260', 'SLNo261', 'Status262', 'Tattoo263', 'Teeth264', 'UpdatedBy265', 'UpdatedOn266', 'VoterIdCardNo267', 'Area268', 'City269', 'Pin270', 'PlaceType271', 'State272', 'Street273', 'InvestigationStage274', 'ProgressDate275', 'TrialCourt276', 'TrialStage277', 'UpdatedOn278', 'VerifiedStatus279', 'BelongsTo280', 'Country281', 'EstimatedValue282', 'IdentityMarks283', 'InsuranceCertNo284', 'InsuranceCompany285', 'IsInvolved286', 'IsRecovered287', 'IsSeized288', 'IsStolen289', 'MainCodeId290', 'Make291', 'ManufacturerNumber292', 'ManufacturerNumberKey293', 'MatchDate294', 'Model295', 'Olaptrans296', 'PropertyType297', 'Quantity298', 'SDate299', 'SLNo300', 'SubCodeId301', 'Unit302', 'UOM303', 'UpdatedBy304', 'UpdatedOn305', 'SlNo306', 'Suspect307', 'AccusedStatus308', 'AddressVerified309', 'ArrestDate310', 'BailDate311', 'Chargesheeted312', 'FormId313', 'ForwardedToCourtDate314', 'NameVerified315', 'PreviousConvictions316', 'RemarksfornotChargesheet317', 'reportdate318', 'ReportNo319', 'SLNo320', 'SuspicionApproved321', 'Disposal322', 'EstimatedValue323', 'MajorCode324', 'MinorCode325', 'PropertyRegNo326', 'PropertyTypeID327', 'RecoveredFrom328', 'reportdate329', 'ReportNo330', 'SLNo331', 'Acquittalreason332', 'AppealDate333', 'AppealNumber334', 'AppealPreferred335', 'AppellentParty336', 'CaseType337', 'ChargeSheetDate338', 'ChargeSheetNo339', 'CommentsbyCourt340', 'CourtCode341', 'DateFramingCharge342', 'FormId343', 'FRNumber344', 'JTYPE345', 'JudgementDate346', 'NotableObservation347', 'Number348', 'OlapTrans349', 'ProsecutorName350', 'RemarksonFurtherAppeal351', 'Type352', 'UpdatedBy353', 'UpdatedOn354', 'VerifiedStatus355', 'DisposalType356', 'FingerPrintTaken357', 'FormId358', 'FRNumber359', 'Judgementdate360', 'Number361', 'OlapTrans362', 'ResultOfAppeal363', 'SlNo364', 'Type365']\n"
     ]
    }
   ],
   "source": [
    "from decimal import *\n",
    "count = 1\n",
    "finalColumnsNames = [\"FIRNo1\"]\n",
    "for j in columns.keys():\n",
    "    comm = \"SELECT TOP(1000) \";\n",
    "    comm += columns[j][0]\n",
    "    if(columns[j][0] != \"FIRNo\"):\n",
    "        count += 1\n",
    "        finalColumnsNames += [columns[j][0]+str(count)]\n",
    "    for i in range(1,len(columns[j])):\n",
    "        comm += \",\" + columns[j][i]\n",
    "        if(columns[j][i] != \"FIRNo\"):\n",
    "            count += 1 \n",
    "            finalColumnsNames += [columns[j][i]+str(count)]\n",
    "    \n",
    "    comm += \" FROM \" + j\n",
    "    \n",
    "    \n",
    "    continue\n",
    "    cursor.execute(comm)\n",
    "    data = cursor.fetchall()\n",
    "    for i in range(len(data)):\n",
    "        index = -1\n",
    "        for ii in range(len(data[i])):\n",
    "            if(isinstance(data[i][ii], Decimal)):\n",
    "                index = ii\n",
    "                break\n",
    "        for ii in range(len(data[i])):\n",
    "            if index == ii:\n",
    "                continue\n",
    "            firsDict[str(data[i][index])] += [data[i][ii]]\n",
    "\n",
    "\n",
    "print(len(finalColumnsNames),finalColumnsNames)\n",
    "    #firsDict[str(data[i][0])] += data[i][1:]\n"
   ]
  },
  {
   "cell_type": "code",
   "execution_count": 48,
   "metadata": {},
   "outputs": [],
   "source": [
    "#Temp\n",
    "wr = open(\"dataModuleTop1000.csv\",\"w\")\n",
    "\n",
    "for i in firsDict.keys():\n",
    "    if(len(firsDict[i]) > 0):\n",
    "        wr.write(str(i))\n",
    "        for d in firsDict[i]:\n",
    "            wr.write(\";\"+str(d))\n",
    "        wr.write(\"\\n\")\n",
    "    else:\n",
    "        \n"
   ]
  },
  {
   "cell_type": "code",
   "execution_count": 70,
   "metadata": {},
   "outputs": [],
   "source": [
    "#Temp\n",
    "\n",
    "comm = \"SELECT FIRAutomobile.FIRNo FROM FIRAutomobile\"\n",
    "cursor.execute(comm)\n",
    "data = cursor.fetchall()\n",
    "#print(data)"
   ]
  },
  {
   "cell_type": "code",
   "execution_count": 71,
   "metadata": {},
   "outputs": [],
   "source": [
    "#Temp\n",
    "for i in range(len(data)):\n",
    "    data[i] = str(data[i])[10:-5]\n",
    "\n",
    "#print(len(data),data)"
   ]
  },
  {
   "cell_type": "code",
   "execution_count": 54,
   "metadata": {},
   "outputs": [
    {
     "name": "stdout",
     "output_type": "stream",
     "text": [
      "43990\n"
     ]
    }
   ],
   "source": [
    "data = set(data)\n",
    "print(len(data))"
   ]
  },
  {
   "cell_type": "code",
   "execution_count": 67,
   "metadata": {},
   "outputs": [
    {
     "name": "stdout",
     "output_type": "stream",
     "text": [
      "FIR  ->  (Decimal('13861320043006'), '19386          ', '1938613        ', 1, '3006 ', datetime.datetime(2004, 1, 26, 0, 0), datetime.datetime(2004, 1, 26, 0, 0), datetime.datetime(2004, 1, 26, 0, 0), datetime.datetime(2004, 1, 26, 15, 0), datetime.datetime(2004, 1, 26, 15, 0), 3757, 3744, '38613D5      ', 761, None, None, 0, Decimal('0.0000'), '                    ', None, None, '240  ', '240-2          ', 3806, ' ', None, None, None, None, None, None, None, None, None, datetime.datetime(2004, 3, 3, 19, 51, 39, 670000), 'SHEWALE             ', 'N', datetime.datetime(2004, 3, 22, 13, 24, 53, 763000), 'N', 'N', None, 2)\n",
      "\n",
      "\n",
      "FIRActs  ->  (Decimal('13720920036037'), 1, '43   ', '43-66B         ', 1, None, None, datetime.datetime(9999, 1, 1, 0, 0), 2)\n",
      "\n",
      "\n",
      "FIRAutomobile  ->  (Decimal('13782819980565'), 1, 7, 906, 1540, None, None, Decimal('70000.0000'), 115, 1997, '                    ', 'MH02R4177           ', '                    ', None, None, 3768, False, True, False, False, '                    ', 'MH02R4177           ', '                    ', datetime.datetime(2002, 9, 21, 11, 11, 41, 187000), None, datetime.datetime(9999, 1, 1, 0, 0), 'Administrator       ', 2)\n",
      "\n",
      "\n",
      "FIRCaseDiary  ->  (Decimal('13871020023007'), datetime.datetime(2002, 2, 16, 0, 0), datetime.datetime(1899, 12, 30, 0, 0), '3', '', datetime.datetime(2003, 9, 14, 10, 24), 'Administrator       ', 'N')\n",
      "\n",
      "\n",
      "FIRComplainant  ->  (Decimal('14010420060089'), 0, 'PRAKASH                                           ', 3761, 'LAXMAN MAGHADE                                    ', datetime.datetime(1976, 1, 1, 0, 0), 3262, '                    ', None, '                                                  ', 2142, '                                                  ', 'WARAJ                                             ', '                                                  ', '                                                  ', '       ')\n",
      "\n",
      "\n",
      "FIRCulturalProperty  ->  (Decimal('13720919990141'), 1, 4, 939, Decimal('40000.0000'), 16, 1561, 1622, 0.0, 0.0, 0.0, 0.0, 0, ' ', '                                                  ', '                                                  ', '                                                  ', False, None, False, True, False, False, datetime.datetime(2004, 12, 24, 12, 34, 53, 153000), None, datetime.datetime(9999, 1, 1, 0, 0), 'Administrator       ', 2)\n",
      "\n",
      "\n",
      "rptDataQuantity  ->  ('1937811        ', 1, Decimal('13781119990281'), datetime.datetime(1999, 7, 4, 0, 0), 1, 0, 0, 0, 0, 2, 0, 0, 0, 0, 0, 0, 0, 0, 0, 0, 0, 1, 0, 0)\n",
      "\n",
      "\n",
      "FIRCurrency  ->  (Decimal('13780620000437'), 1, 2, 878, '4ES  ', 991308, 0, 27, 500, datetime.datetime(2001, 7, 23, 9, 27, 28, 700000), datetime.datetime(9999, 1, 1, 0, 0), 'Administrator       ', 2)\n",
      "\n",
      "\n",
      "FIRDrugs  ->  (Decimal('13791220066146'), 1, 3, 1415, 36.0, 3827, 180.0, 3827, 6480.0, 3628, Decimal('720.0000'), datetime.datetime(2008, 1, 27, 6, 44, 47, 140000), datetime.datetime(2006, 9, 12, 14, 30), 'Administrator       ', 2)\n",
      "\n",
      "\n",
      "FIRInvestigation  ->  (Decimal('13721619950189'), 1, datetime.datetime(1995, 12, 17, 0, 0), datetime.datetime(1995, 12, 17, 0, 0), datetime.datetime(1995, 12, 17, 0, 0), '                                                  ', None, None, '                                                  ', '                                                  ', '                                                  ', '                                                  ', '                                                  ', '       ', None, None, '                                                  ', '                                                                                                                                                                                                                                                               ', 1491, datetime.datetime(2000, 12, 12, 15, 44), 'CCIS                ', 'N', False, None, None, None, None, 2)\n",
      "\n",
      "\n",
      "FIRInvestigationInfo  ->  (Decimal('13780420030441'), 1, 'ACCUSED PERSON HURT TO COMPLAINANT BY FIST BLOW ON SUDDEN QUARREL BETWEEN THEM.')\n",
      "\n",
      "\n",
      "FIRMethods  ->  (Decimal('13993719980341'), '43   ', '43-279         ', 45, 601, 2)\n",
      "\n",
      "\n",
      "FIRPersonDeformity  ->  (Decimal('13722420010022'), 1, 2334, 2)\n",
      "\n",
      "\n",
      "FIRPersonIdMark  ->  (Decimal('13722420010022'), 1, 2507)\n",
      "\n",
      "\n",
      "FIRPersons  ->  (Decimal('13861920040014'), 1, '  ', 9, 3768, None, 3743, datetime.datetime(1976, 1, 1, 0, 0), None, 3262, 1526, None, 0.0, None, None, None, None, None, None, None, None, None, None, None, None, 3773, None, 'ADIKRAO VILAS PATIL                               ', 3761, 'VILAS                                             ', '               ', '               ', None, '                    ', None, None, None, 'A32            ', '#4S            ', '}T4            ', '               ', '#4S            ', '               ', '               ', '               ', None, None, None, 2, datetime.datetime(2004, 2, 26, 14, 7, 45, 687000), None, datetime.datetime(9999, 1, 1, 0, 0), 'Administrator       ', 2)\n",
      "\n",
      "\n",
      "FIRPlaceOfOccurence  ->  (Decimal('13862220020009'), None, 'IN COMPLAINANT SHOP AT PARGAON VILLAGE            ', 'TALUKA HATKANANGLE                                ', 'KOLHAPUR                                          ', '                                                  ', '       ')\n",
      "\n",
      "\n",
      "FIRProgress  ->  (Decimal('13892920023011'), datetime.datetime(2004, 7, 1, 0, 0), 3835, None, 0, 'Y', datetime.datetime(2004, 7, 30, 16, 0, 33, 717000))\n",
      "\n",
      "\n",
      "FIRProperty  ->  (Decimal('13720119950003'), 1, 1, 3734, 1341, None, None, Decimal('300.0000'), 0, None, '                                                  ', '                                                  ', '                    ', '                                                  ', '                                                  ', '                                                  ', False, True, False, False, '                    ', datetime.datetime(2000, 12, 13, 13, 51, 14), None, datetime.datetime(9999, 1, 1, 0, 0), 'Rs', 'Administrator       ', 0)\n",
      "\n",
      "\n",
      "FIRSuspectInfo  ->  (Decimal('13754319980094'), 1, 'UNKNOWN                                                                                                                                                                                                                                                        ')\n",
      "\n",
      "\n",
      "FinalReportPersonDetail  ->  (Decimal('13732420020030'), 1, 3, False, False, None, None, 2582, None, None, datetime.datetime(2002, 4, 23, 0, 0), None, None, 5, datetime.datetime(2002, 4, 27, 11, 11, 11))\n",
      "\n",
      "\n",
      "FinalReportPropertyDetail  ->  (Decimal('13760520020498'), 1, 1, 2, 3739, 1413, 0, '          ', '                                                  ', '                                                                                                                                                                                                                                                               ', datetime.datetime(9999, 1, 1, 0, 0))\n",
      "\n",
      "\n",
      "Judgement  ->  (Decimal('13720219990095'), 'D', 1, '3/2000              ', None, 2886, 3781, datetime.datetime(2000, 1, 13, 0, 0), datetime.datetime(2000, 7, 18, 0, 0), datetime.datetime(2000, 3, 31, 0, 0), None, datetime.datetime(1899, 12, 30, 0, 0), None, None, None, None, None, None, None, 6, datetime.datetime(2005, 8, 11, 13, 17, 59, 780000), 'N', 'Administrator       ', 2, None)\n",
      "\n",
      "\n",
      "JudgementPersonDetail  ->  (Decimal('13931020010099'), 'D', 1, '146/2001            ', 2, 3105, None, True, 6, 2, datetime.datetime(9999, 1, 1, 0, 0))\n",
      "\n",
      "\n"
     ]
    }
   ],
   "source": [
    "for i in columns.keys():\n",
    "    qry = \"SELECT * FROM \" + i\n",
    "\n",
    "    cursor.execute(qry)\n",
    "\n",
    "    row = cursor.fetchone() #Fetch first row\n",
    "\n",
    "    print(i,\" -> \", row)\n",
    "    print(\"\\n\")"
   ]
  },
  {
   "cell_type": "code",
   "execution_count": null,
   "metadata": {
    "collapsed": true
   },
   "outputs": [],
   "source": []
  }
 ],
 "metadata": {
  "kernelspec": {
   "display_name": "Python 3",
   "language": "python",
   "name": "python3"
  },
  "language_info": {
   "codemirror_mode": {
    "name": "ipython",
    "version": 3
   },
   "file_extension": ".py",
   "mimetype": "text/x-python",
   "name": "python",
   "nbconvert_exporter": "python",
   "pygments_lexer": "ipython3",
   "version": "3.6.2"
  }
 },
 "nbformat": 4,
 "nbformat_minor": 2
}
